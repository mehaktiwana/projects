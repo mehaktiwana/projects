{
 "cells": [
  {
   "cell_type": "code",
   "execution_count": 13,
   "metadata": {},
   "outputs": [],
   "source": [
    "import pandas as pd\n",
    "import numpy as np\n",
    "import matplotlib.pyplot as plt"
   ]
  },
  {
   "cell_type": "code",
   "execution_count": 2,
   "metadata": {},
   "outputs": [],
   "source": [
    "# Fetching data and loading into a dataframe\n",
    "filename = \"https://cf-courses-data.s3.us.cloud-object-storage.appdomain.cloud/IBMDeveloperSkillsNetwork-DA0101EN-SkillsNetwork/labs/Data%20files/auto.csv\"\n",
    "headers = [\"symboling\",\"normalized-losses\",\"make\",\"fuel-type\",\"aspiration\", \"num-of-doors\",\"body-style\",\n",
    "         \"drive-wheels\",\"engine-location\",\"wheel-base\", \"length\",\"width\",\"height\",\"curb-weight\",\"engine-type\",\n",
    "         \"num-of-cylinders\", \"engine-size\",\"fuel-system\",\"bore\",\"stroke\",\"compression-ratio\",\"horsepower\",\n",
    "         \"peak-rpm\",\"city-mpg\",\"highway-mpg\",\"price\"]"
   ]
  },
  {
   "cell_type": "code",
   "execution_count": 3,
   "metadata": {},
   "outputs": [
    {
     "name": "stdout",
     "output_type": "stream",
     "text": [
      "   symboling normalized-losses         make fuel-type aspiration num-of-doors  \\\n",
      "0          3               NaN  alfa-romero       gas        std          two   \n",
      "1          3               NaN  alfa-romero       gas        std          two   \n",
      "2          1               NaN  alfa-romero       gas        std          two   \n",
      "3          2               164         audi       gas        std         four   \n",
      "4          2               164         audi       gas        std         four   \n",
      "\n",
      "    body-style drive-wheels engine-location  wheel-base  ...  engine-size  \\\n",
      "0  convertible          rwd           front        88.6  ...          130   \n",
      "1  convertible          rwd           front        88.6  ...          130   \n",
      "2    hatchback          rwd           front        94.5  ...          152   \n",
      "3        sedan          fwd           front        99.8  ...          109   \n",
      "4        sedan          4wd           front        99.4  ...          136   \n",
      "\n",
      "   fuel-system  bore  stroke compression-ratio horsepower  peak-rpm city-mpg  \\\n",
      "0         mpfi  3.47    2.68               9.0        111      5000       21   \n",
      "1         mpfi  3.47    2.68               9.0        111      5000       21   \n",
      "2         mpfi  2.68    3.47               9.0        154      5000       19   \n",
      "3         mpfi  3.19    3.40              10.0        102      5500       24   \n",
      "4         mpfi  3.19    3.40               8.0        115      5500       18   \n",
      "\n",
      "  highway-mpg  price  \n",
      "0          27  13495  \n",
      "1          27  16500  \n",
      "2          26  16500  \n",
      "3          30  13950  \n",
      "4          22  17450  \n",
      "\n",
      "[5 rows x 26 columns]\n"
     ]
    }
   ],
   "source": [
    "df = pd.read_csv(filename, names=headers)\n",
    "df.replace(\"?\", np.nan, inplace=True)\n",
    "print(df.head())"
   ]
  },
  {
   "cell_type": "code",
   "execution_count": 4,
   "metadata": {},
   "outputs": [
    {
     "name": "stdout",
     "output_type": "stream",
     "text": [
      "   symboling  normalized-losses   make  fuel-type  aspiration  num-of-doors  \\\n",
      "0      False               True  False      False       False         False   \n",
      "1      False               True  False      False       False         False   \n",
      "2      False               True  False      False       False         False   \n",
      "3      False              False  False      False       False         False   \n",
      "4      False              False  False      False       False         False   \n",
      "\n",
      "   body-style  drive-wheels  engine-location  wheel-base  ...  engine-size  \\\n",
      "0       False         False            False       False  ...        False   \n",
      "1       False         False            False       False  ...        False   \n",
      "2       False         False            False       False  ...        False   \n",
      "3       False         False            False       False  ...        False   \n",
      "4       False         False            False       False  ...        False   \n",
      "\n",
      "   fuel-system   bore  stroke  compression-ratio  horsepower  peak-rpm  \\\n",
      "0        False  False   False              False       False     False   \n",
      "1        False  False   False              False       False     False   \n",
      "2        False  False   False              False       False     False   \n",
      "3        False  False   False              False       False     False   \n",
      "4        False  False   False              False       False     False   \n",
      "\n",
      "   city-mpg  highway-mpg  price  \n",
      "0     False        False  False  \n",
      "1     False        False  False  \n",
      "2     False        False  False  \n",
      "3     False        False  False  \n",
      "4     False        False  False  \n",
      "\n",
      "[5 rows x 26 columns]\n"
     ]
    }
   ],
   "source": [
    "# Handling missing values\n",
    "\n",
    "missing_data = df.isnull()\n",
    "print(missing_data.head())"
   ]
  },
  {
   "cell_type": "code",
   "execution_count": 5,
   "metadata": {},
   "outputs": [
    {
     "name": "stdout",
     "output_type": "stream",
     "text": [
      "symboling\n",
      "False    205\n",
      "Name: symboling, dtype: int64\n",
      " \n",
      "normalized-losses\n",
      "False    164\n",
      "True      41\n",
      "Name: normalized-losses, dtype: int64\n",
      " \n",
      "make\n",
      "False    205\n",
      "Name: make, dtype: int64\n",
      " \n",
      "fuel-type\n",
      "False    205\n",
      "Name: fuel-type, dtype: int64\n",
      " \n",
      "aspiration\n",
      "False    205\n",
      "Name: aspiration, dtype: int64\n",
      " \n",
      "num-of-doors\n",
      "False    203\n",
      "True       2\n",
      "Name: num-of-doors, dtype: int64\n",
      " \n",
      "body-style\n",
      "False    205\n",
      "Name: body-style, dtype: int64\n",
      " \n",
      "drive-wheels\n",
      "False    205\n",
      "Name: drive-wheels, dtype: int64\n",
      " \n",
      "engine-location\n",
      "False    205\n",
      "Name: engine-location, dtype: int64\n",
      " \n",
      "wheel-base\n",
      "False    205\n",
      "Name: wheel-base, dtype: int64\n",
      " \n",
      "length\n",
      "False    205\n",
      "Name: length, dtype: int64\n",
      " \n",
      "width\n",
      "False    205\n",
      "Name: width, dtype: int64\n",
      " \n",
      "height\n",
      "False    205\n",
      "Name: height, dtype: int64\n",
      " \n",
      "curb-weight\n",
      "False    205\n",
      "Name: curb-weight, dtype: int64\n",
      " \n",
      "engine-type\n",
      "False    205\n",
      "Name: engine-type, dtype: int64\n",
      " \n",
      "num-of-cylinders\n",
      "False    205\n",
      "Name: num-of-cylinders, dtype: int64\n",
      " \n",
      "engine-size\n",
      "False    205\n",
      "Name: engine-size, dtype: int64\n",
      " \n",
      "fuel-system\n",
      "False    205\n",
      "Name: fuel-system, dtype: int64\n",
      " \n",
      "bore\n",
      "False    201\n",
      "True       4\n",
      "Name: bore, dtype: int64\n",
      " \n",
      "stroke\n",
      "False    201\n",
      "True       4\n",
      "Name: stroke, dtype: int64\n",
      " \n",
      "compression-ratio\n",
      "False    205\n",
      "Name: compression-ratio, dtype: int64\n",
      " \n",
      "horsepower\n",
      "False    203\n",
      "True       2\n",
      "Name: horsepower, dtype: int64\n",
      " \n",
      "peak-rpm\n",
      "False    203\n",
      "True       2\n",
      "Name: peak-rpm, dtype: int64\n",
      " \n",
      "city-mpg\n",
      "False    205\n",
      "Name: city-mpg, dtype: int64\n",
      " \n",
      "highway-mpg\n",
      "False    205\n",
      "Name: highway-mpg, dtype: int64\n",
      " \n",
      "price\n",
      "False    201\n",
      "True       4\n",
      "Name: price, dtype: int64\n",
      " \n"
     ]
    }
   ],
   "source": [
    "# Count missing values in each column\n",
    "for column in missing_data.columns.values.tolist():\n",
    "    print(column)\n",
    "    print(missing_data[column].value_counts())\n",
    "    print(\" \")"
   ]
  },
  {
   "cell_type": "code",
   "execution_count": 6,
   "metadata": {},
   "outputs": [
    {
     "name": "stdout",
     "output_type": "stream",
     "text": [
      "Average of normalizes losses:  122.0\n",
      "four\n",
      "   symboling normalized-losses         make fuel-type aspiration num-of-doors  \\\n",
      "0          3             122.0  alfa-romero       gas        std          two   \n",
      "1          3             122.0  alfa-romero       gas        std          two   \n",
      "2          1             122.0  alfa-romero       gas        std          two   \n",
      "3          2               164         audi       gas        std         four   \n",
      "4          2               164         audi       gas        std         four   \n",
      "\n",
      "    body-style drive-wheels engine-location  wheel-base  ...  engine-size  \\\n",
      "0  convertible          rwd           front        88.6  ...          130   \n",
      "1  convertible          rwd           front        88.6  ...          130   \n",
      "2    hatchback          rwd           front        94.5  ...          152   \n",
      "3        sedan          fwd           front        99.8  ...          109   \n",
      "4        sedan          4wd           front        99.4  ...          136   \n",
      "\n",
      "   fuel-system  bore  stroke compression-ratio horsepower  peak-rpm city-mpg  \\\n",
      "0         mpfi  3.47    2.68               9.0        111      5000       21   \n",
      "1         mpfi  3.47    2.68               9.0        111      5000       21   \n",
      "2         mpfi  2.68    3.47               9.0        154      5000       19   \n",
      "3         mpfi  3.19    3.40              10.0        102      5500       24   \n",
      "4         mpfi  3.19    3.40               8.0        115      5500       18   \n",
      "\n",
      "  highway-mpg  price  \n",
      "0          27  13495  \n",
      "1          27  16500  \n",
      "2          26  16500  \n",
      "3          30  13950  \n",
      "4          22  17450  \n",
      "\n",
      "[5 rows x 26 columns]\n"
     ]
    }
   ],
   "source": [
    "# Finding mean or average of each column and replacing the null values with it\n",
    "\n",
    "avg_norm_loss = df[\"normalized-losses\"].astype('float').mean(axis = 0)\n",
    "print(\"Average of normalizes losses: \", avg_norm_loss)\n",
    "df['normalized-losses'].replace(np.nan, avg_norm_loss, inplace=True)\n",
    "\n",
    "avg_bore = df['bore'].astype('float').mean(axis = 0)\n",
    "df['bore'].replace(np.nan, avg_bore, inplace=True)\n",
    "\n",
    "avg_stroke = df['stroke'].astype('float').mean(axis = 0)\n",
    "df['stroke'].replace(np.nan, avg_stroke, inplace=True)\n",
    "\n",
    "avg_horsepower = df['horsepower'].astype('float').mean(axis=0)\n",
    "df['horsepower'].replace(np.nan, avg_horsepower, inplace=True)\n",
    "\n",
    "avg_peakrpm=df['peak-rpm'].astype('float').mean(axis=0)\n",
    "df['peak-rpm'].replace(np.nan, avg_peakrpm, inplace=True)\n",
    "\n",
    "print(df['num-of-doors'].value_counts().idxmax())    \n",
    "# This step was to get the value with highest frequency\n",
    "df['num-of-doors'].replace(np.nan, 'four', inplace=True)\n",
    "\n",
    "df.dropna(subset=['price'], axis=0, inplace=True)\n",
    "df.reset_index(drop=True, inplace=True)\n",
    "#In the previous step, rows with null values in price column were dropped\n",
    "\n",
    "\n",
    "print(df.head())\n",
    "# No missing values now"
   ]
  },
  {
   "cell_type": "code",
   "execution_count": 7,
   "metadata": {},
   "outputs": [
    {
     "name": "stdout",
     "output_type": "stream",
     "text": [
      "symboling              int64\n",
      "normalized-losses     object\n",
      "make                  object\n",
      "fuel-type             object\n",
      "aspiration            object\n",
      "num-of-doors          object\n",
      "body-style            object\n",
      "drive-wheels          object\n",
      "engine-location       object\n",
      "wheel-base           float64\n",
      "length               float64\n",
      "width                float64\n",
      "height               float64\n",
      "curb-weight            int64\n",
      "engine-type           object\n",
      "num-of-cylinders      object\n",
      "engine-size            int64\n",
      "fuel-system           object\n",
      "bore                  object\n",
      "stroke                object\n",
      "compression-ratio    float64\n",
      "horsepower            object\n",
      "peak-rpm              object\n",
      "city-mpg               int64\n",
      "highway-mpg            int64\n",
      "price                 object\n",
      "dtype: object\n",
      "symboling              int64\n",
      "normalized-losses      int32\n",
      "make                  object\n",
      "fuel-type             object\n",
      "aspiration            object\n",
      "num-of-doors          object\n",
      "body-style            object\n",
      "drive-wheels          object\n",
      "engine-location       object\n",
      "wheel-base           float64\n",
      "length               float64\n",
      "width                float64\n",
      "height               float64\n",
      "curb-weight            int64\n",
      "engine-type           object\n",
      "num-of-cylinders      object\n",
      "engine-size            int64\n",
      "fuel-system           object\n",
      "bore                 float64\n",
      "stroke               float64\n",
      "compression-ratio    float64\n",
      "horsepower            object\n",
      "peak-rpm             float64\n",
      "city-mpg               int64\n",
      "highway-mpg            int64\n",
      "price                float64\n",
      "dtype: object\n"
     ]
    }
   ],
   "source": [
    "# Correcting the data types\n",
    "print(df.dtypes)\n",
    "# Here, we noticed that some object values were supposed to be integers\n",
    "df[[\"bore\", \"stroke\"]] = df[[\"bore\", \"stroke\"]].astype(\"float\")\n",
    "df[[\"normalized-losses\"]] = df[[\"normalized-losses\"]].astype(\"int\")\n",
    "df[[\"price\"]] = df[[\"price\"]].astype(\"float\")\n",
    "df[[\"peak-rpm\"]] = df[[\"peak-rpm\"]].astype(\"float\")\n",
    "\n",
    "print(df.dtypes)\n",
    "# Now, all columns are in their correct format\n"
   ]
  },
  {
   "cell_type": "code",
   "execution_count": 8,
   "metadata": {},
   "outputs": [
    {
     "name": "stdout",
     "output_type": "stream",
     "text": [
      "   symboling  normalized-losses         make fuel-type aspiration  \\\n",
      "0          3                122  alfa-romero       gas        std   \n",
      "1          3                122  alfa-romero       gas        std   \n",
      "2          1                122  alfa-romero       gas        std   \n",
      "3          2                164         audi       gas        std   \n",
      "4          2                164         audi       gas        std   \n",
      "\n",
      "  num-of-doors   body-style drive-wheels engine-location  wheel-base  ...  \\\n",
      "0          two  convertible          rwd           front        88.6  ...   \n",
      "1          two  convertible          rwd           front        88.6  ...   \n",
      "2          two    hatchback          rwd           front        94.5  ...   \n",
      "3         four        sedan          fwd           front        99.8  ...   \n",
      "4         four        sedan          4wd           front        99.4  ...   \n",
      "\n",
      "   fuel-system  bore  stroke  compression-ratio horsepower peak-rpm  city-mpg  \\\n",
      "0         mpfi  3.47    2.68                9.0        111   5000.0        21   \n",
      "1         mpfi  3.47    2.68                9.0        111   5000.0        21   \n",
      "2         mpfi  2.68    3.47                9.0        154   5000.0        19   \n",
      "3         mpfi  3.19    3.40               10.0        102   5500.0        24   \n",
      "4         mpfi  3.19    3.40                8.0        115   5500.0        18   \n",
      "\n",
      "  highway-mpg    price  city-L/100km  \n",
      "0          27  13495.0     11.190476  \n",
      "1          27  16500.0     11.190476  \n",
      "2          26  16500.0     12.368421  \n",
      "3          30  13950.0      9.791667  \n",
      "4          22  17450.0     13.055556  \n",
      "\n",
      "[5 rows x 27 columns]\n",
      "   symboling  normalized-losses         make fuel-type aspiration  \\\n",
      "0          3                122  alfa-romero       gas        std   \n",
      "1          3                122  alfa-romero       gas        std   \n",
      "2          1                122  alfa-romero       gas        std   \n",
      "3          2                164         audi       gas        std   \n",
      "4          2                164         audi       gas        std   \n",
      "\n",
      "  num-of-doors   body-style drive-wheels engine-location  wheel-base  ...  \\\n",
      "0          two  convertible          rwd           front        88.6  ...   \n",
      "1          two  convertible          rwd           front        88.6  ...   \n",
      "2          two    hatchback          rwd           front        94.5  ...   \n",
      "3         four        sedan          fwd           front        99.8  ...   \n",
      "4         four        sedan          4wd           front        99.4  ...   \n",
      "\n",
      "   fuel-system  bore  stroke  compression-ratio horsepower peak-rpm  city-mpg  \\\n",
      "0         mpfi  3.47    2.68                9.0        111   5000.0        21   \n",
      "1         mpfi  3.47    2.68                9.0        111   5000.0        21   \n",
      "2         mpfi  2.68    3.47                9.0        154   5000.0        19   \n",
      "3         mpfi  3.19    3.40               10.0        102   5500.0        24   \n",
      "4         mpfi  3.19    3.40                8.0        115   5500.0        18   \n",
      "\n",
      "  highway-L/100km    price  city-L/100km  \n",
      "0        8.703704  13495.0     11.190476  \n",
      "1        8.703704  16500.0     11.190476  \n",
      "2        9.038462  16500.0     12.368421  \n",
      "3        7.833333  13950.0      9.791667  \n",
      "4       10.681818  17450.0     13.055556  \n",
      "\n",
      "[5 rows x 27 columns]\n"
     ]
    }
   ],
   "source": [
    "# Data Standardization\n",
    "\n",
    "# Creating a new column city-L/100km and converting city-mpg in terms of L/100km\n",
    "df['city-L/100km'] = 235/df['city-mpg']\n",
    "print(df.head())\n",
    "\n",
    "df['highway-mpg'] = 235/df['highway-mpg']\n",
    "df.rename(columns={'highway-mpg': 'highway-L/100km'}, inplace=True)\n",
    "print(df.head())"
   ]
  },
  {
   "cell_type": "code",
   "execution_count": 9,
   "metadata": {},
   "outputs": [
    {
     "name": "stdout",
     "output_type": "stream",
     "text": [
      "     length     width    height\n",
      "0  0.811148  0.890278  0.816054\n",
      "1  0.811148  0.890278  0.816054\n",
      "2  0.822681  0.909722  0.876254\n",
      "3  0.848630  0.919444  0.908027\n",
      "4  0.848630  0.922222  0.908027\n"
     ]
    }
   ],
   "source": [
    "# Data Normalization\n",
    "# Normalization is the process of transforming values of several variables into a similar range. \n",
    "# Typical normalizations include scaling the variable so the variable average is 0, \n",
    "# scaling the variable so the variance is 1, or scaling the variable so the variable values range from 0 to 1.\n",
    "\n",
    "df['length'] = df['length']/df['length'].max()\n",
    "df['width'] = df['width']/df['width'].max()\n",
    "df['height'] = df['height']/df['height'].max()\n",
    "\n",
    "print(df[['length', 'width', 'height']].head())"
   ]
  },
  {
   "cell_type": "code",
   "execution_count": 15,
   "metadata": {},
   "outputs": [
    {
     "data": {
      "text/plain": [
       "array([ 48.        , 119.33333333, 190.66666667, 262.        ])"
      ]
     },
     "execution_count": 15,
     "metadata": {},
     "output_type": "execute_result"
    },
    {
     "data": {
      "image/png": "[encoded data removed]",
      "text/plain": [
       "<Figure size 640x480 with 1 Axes>"
      ]
     },
     "metadata": {},
     "output_type": "display_data"
    }
   ],
   "source": [
    "# Data Binning\n",
    "# Binning is a process of transforming continuous numerical variables into discrete categorical 'bins' for grouped analysis.\n",
    "df['horsepower'] = df['horsepower'].astype('int', copy= True)\n",
    "plt.xlabel(\"horsepower\")\n",
    "plt.ylabel(\"count\")\n",
    "plt.title(\"horsepower bins\")\n",
    "\n",
    "bins = np.linspace(min(df[\"horsepower\"]), max(df[\"horsepower\"]), 4)\n",
    "bins"
   ]
  },
  {
   "cell_type": "code",
   "execution_count": 16,
   "metadata": {},
   "outputs": [
    {
     "name": "stdout",
     "output_type": "stream",
     "text": [
      "    horsepower horsepower-binned\n",
      "0          111               Low\n",
      "1          111               Low\n",
      "2          154            Medium\n",
      "3          102               Low\n",
      "4          115               Low\n",
      "5          110               Low\n",
      "6          110               Low\n",
      "7          110               Low\n",
      "8          140            Medium\n",
      "9          101               Low\n",
      "10         101               Low\n",
      "11         121            Medium\n",
      "12         121            Medium\n",
      "13         121            Medium\n",
      "14         182            Medium\n",
      "15         182            Medium\n",
      "16         182            Medium\n",
      "17          48               Low\n",
      "18          70               Low\n",
      "19          70               Low\n",
      "Low       153\n",
      "Medium     43\n",
      "High        5\n",
      "Name: horsepower-binned, dtype: int64\n"
     ]
    }
   ],
   "source": [
    "group_names = ['Low', 'Medium', 'High']\n",
    "df['horsepower-binned'] = pd.cut(df['horsepower'], bins, labels= group_names, include_lowest=True)\n",
    "print(df[['horsepower','horsepower-binned']].head(20))\n",
    "print(df[\"horsepower-binned\"].value_counts())"
   ]
  },
  {
   "cell_type": "code",
   "execution_count": 17,
   "metadata": {},
   "outputs": [
    {
     "data": {
      "image/png": "[encoded data removed]",
      "text/plain": [
       "<Figure size 640x480 with 1 Axes>"
      ]
     },
     "metadata": {},
     "output_type": "display_data"
    }
   ],
   "source": [
    "plt.xlabel(\"horsepower\")\n",
    "plt.ylabel(\"count\")\n",
    "plt.title(\"horsepower bins\")\n",
    "plt.show()"
   ]
  },
  {
   "cell_type": "code",
   "execution_count": 18,
   "metadata": {},
   "outputs": [
    {
     "name": "stdout",
     "output_type": "stream",
     "text": [
      "   diesel  gas\n",
      "0       0    1\n",
      "1       0    1\n",
      "2       0    1\n",
      "3       0    1\n",
      "4       0    1\n",
      "   fuel-type-diesel  fuel-type-gas\n",
      "0                 0              1\n",
      "1                 0              1\n",
      "2                 0              1\n",
      "3                 0              1\n",
      "4                 0              1\n"
     ]
    }
   ],
   "source": [
    "dummy_variable_1 = pd.get_dummies(df['fuel-type'])\n",
    "print(dummy_variable_1.head())\n",
    "dummy_variable_1.rename(columns={'gas':'fuel-type-gas', 'diesel':'fuel-type-diesel'}, inplace=True)\n",
    "print(dummy_variable_1.head())\n"
   ]
  },
  {
   "cell_type": "code",
   "execution_count": 19,
   "metadata": {},
   "outputs": [
    {
     "name": "stdout",
     "output_type": "stream",
     "text": [
      "     symboling  normalized-losses   make aspiration num-of-doors body-style  \\\n",
      "191         -1                 74  volvo        std         four      wagon   \n",
      "192         -2                103  volvo        std         four      sedan   \n",
      "193         -1                 74  volvo        std         four      wagon   \n",
      "194         -2                103  volvo      turbo         four      sedan   \n",
      "195         -1                 74  volvo      turbo         four      wagon   \n",
      "196         -1                 95  volvo        std         four      sedan   \n",
      "197         -1                 95  volvo      turbo         four      sedan   \n",
      "198         -1                 95  volvo        std         four      sedan   \n",
      "199         -1                 95  volvo      turbo         four      sedan   \n",
      "200         -1                 95  volvo      turbo         four      sedan   \n",
      "\n",
      "    drive-wheels engine-location  wheel-base    length  ...  \\\n",
      "191          rwd           front       104.3  0.907256  ...   \n",
      "192          rwd           front       104.3  0.907256  ...   \n",
      "193          rwd           front       104.3  0.907256  ...   \n",
      "194          rwd           front       104.3  0.907256  ...   \n",
      "195          rwd           front       104.3  0.907256  ...   \n",
      "196          rwd           front       109.1  0.907256  ...   \n",
      "197          rwd           front       109.1  0.907256  ...   \n",
      "198          rwd           front       109.1  0.907256  ...   \n",
      "199          rwd           front       109.1  0.907256  ...   \n",
      "200          rwd           front       109.1  0.907256  ...   \n",
      "\n",
      "     compression-ratio  horsepower  peak-rpm city-mpg highway-L/100km  \\\n",
      "191                9.5         114    5400.0       23        8.392857   \n",
      "192                9.5         114    5400.0       24        8.392857   \n",
      "193                9.5         114    5400.0       24        8.392857   \n",
      "194                7.5         162    5100.0       17       10.681818   \n",
      "195                7.5         162    5100.0       17       10.681818   \n",
      "196                9.5         114    5400.0       23        8.392857   \n",
      "197                8.7         160    5300.0       19        9.400000   \n",
      "198                8.8         134    5500.0       18       10.217391   \n",
      "199               23.0         106    4800.0       26        8.703704   \n",
      "200                9.5         114    5400.0       19        9.400000   \n",
      "\n",
      "       price city-L/100km  horsepower-binned  fuel-type-diesel  fuel-type-gas  \n",
      "191  13415.0    10.217391                Low                 0              1  \n",
      "192  15985.0     9.791667                Low                 0              1  \n",
      "193  16515.0     9.791667                Low                 0              1  \n",
      "194  18420.0    13.823529             Medium                 0              1  \n",
      "195  18950.0    13.823529             Medium                 0              1  \n",
      "196  16845.0    10.217391                Low                 0              1  \n",
      "197  19045.0    12.368421             Medium                 0              1  \n",
      "198  21485.0    13.055556             Medium                 0              1  \n",
      "199  22470.0     9.038462                Low                 1              0  \n",
      "200  22625.0    12.368421                Low                 0              1  \n",
      "\n",
      "[10 rows x 29 columns]\n"
     ]
    }
   ],
   "source": [
    "df = pd.concat([df, dummy_variable_1], axis=1)\n",
    "df.drop('fuel-type', axis = 1, inplace=True)\n",
    "print(df.tail(10))"
   ]
  },
  {
   "cell_type": "code",
   "execution_count": 20,
   "metadata": {},
   "outputs": [],
   "source": [
    "dummy_variable_2 = pd.get_dummies(df['aspiration'])\n",
    "dummy_variable_2.rename(columns={'std':'aspiration-std', 'turbo': 'aspiration-turbo'}, inplace=True)"
   ]
  },
  {
   "cell_type": "code",
   "execution_count": 21,
   "metadata": {},
   "outputs": [],
   "source": [
    "# drop original column \"aspiration\" from \"df\"\n",
    "df.drop('aspiration', axis = 1, inplace=True)\n",
    "\n",
    "df.to_excel('cleandf.xlsx')"
   ]
  },
  {
   "cell_type": "code",
   "execution_count": 24,
   "metadata": {},
   "outputs": [
    {
     "data": {
      "image/png": "[encoded data removed]",
      "text/plain": [
       "<Figure size 640x480 with 1 Axes>"
      ]
     },
     "metadata": {},
     "output_type": "display_data"
    }
   ],
   "source": [
    "# draw historgram of attribute \"horsepower\" with bins = 3\n",
    "plt.hist(df[\"horsepower\"], bins = 3)\n",
    "\n",
    "# # set x/y labels and plot title\n",
    "plt.xlabel(\"horsepower\")\n",
    "plt.ylabel(\"count\")\n",
    "plt.title(\"horsepower bins\")\n",
    "plt.show()"
   ]
  },
  {
   "cell_type": "code",
   "execution_count": 25,
   "metadata": {},
   "outputs": [],
   "source": [
    "import seaborn as sns\n",
    "from scipy import stats"
   ]
  }
 ],
 "metadata": {
  "kernelspec": {
   "display_name": "Python 3",
   "language": "python",
   "name": "python3"
  },
  "language_info": {
   "codemirror_mode": {
    "name": "ipython",
    "version": 3
   },
   "file_extension": ".py",
   "mimetype": "text/x-python",
   "name": "python",
   "nbconvert_exporter": "python",
   "pygments_lexer": "ipython3",
   "version": "3.11.0"
  },
  "orig_nbformat": 4
 },
 "nbformat": 4,
 "nbformat_minor": 2
}
