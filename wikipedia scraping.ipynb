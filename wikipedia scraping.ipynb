{
 "cells": [
  {
   "attachments": {},
   "cell_type": "markdown",
   "metadata": {},
   "source": [
    "Impoting Libraries"
   ]
  },
  {
   "cell_type": "code",
   "execution_count": 14,
   "metadata": {},
   "outputs": [],
   "source": [
    "import pandas as pd\n",
    "from bs4 import BeautifulSoup\n",
    "import requests\n",
    "import numpy as np"
   ]
  },
  {
   "attachments": {},
   "cell_type": "markdown",
   "metadata": {},
   "source": [
    "Retrieving Data"
   ]
  },
  {
   "cell_type": "code",
   "execution_count": 15,
   "metadata": {},
   "outputs": [],
   "source": [
    "#  https://en.wikipedia.org/wiki/Nikola_Tesla\n",
    "url = \"https://en.wikipedia.org/wiki/Nikola_Tesla\"\n",
    "response = requests.get(url)\n",
    "\n",
    "# Check if the request was successful\n",
    "if response.status_code == 200:\n",
    "    # Parse the HTML content with BeautifulSoup\n",
    "    soup = BeautifulSoup(response.text, 'html.parser')\n",
    "    # Now, you can start extracting data from the soup object\n",
    "else:\n",
    "    print(f\"Failed to retrieve the page. Status code: {response.status_code}\")\n"
   ]
  },
  {
   "cell_type": "code",
   "execution_count": 16,
   "metadata": {},
   "outputs": [],
   "source": [
    "# Find all paragraph elements\n",
    "paragraphs = soup.find_all('p')\n",
    "\n",
    "# Extract plain text and HTML text\n",
    "plain_text = \"\\n\".join([paragraph.get_text() for paragraph in paragraphs])\n",
    "html_text = \"\\n\".join([str(paragraph) for paragraph in paragraphs])\n"
   ]
  },
  {
   "cell_type": "code",
   "execution_count": 17,
   "metadata": {},
   "outputs": [],
   "source": [
    "\n",
    "\n",
    "# Create DataFrames\n",
    "plain_text_df = pd.DataFrame(data={'text': [plain_text]})\n",
    "html_text_df = pd.DataFrame(data={'html_text': [html_text]})\n",
    "\n",
    "# Save to text files\n",
    "plain_text_df.to_csv('plain_text.txt', index=False, header=False)\n",
    "html_text_df.to_csv('html_text.txt', index=False, header=False)\n"
   ]
  },
  {
   "cell_type": "code",
   "execution_count": 18,
   "metadata": {},
   "outputs": [],
   "source": [
    "# Find all hyperlinks\n",
    "hyperlinks = soup.find_all('a')\n",
    "\n",
    "# Extract text and link for each hyperlink\n",
    "data = {'Text': [], 'Link': []}\n",
    "\n",
    "for link in hyperlinks:\n",
    "    text = link.get_text(strip=True)\n",
    "    href = link.get('href')\n",
    "    if text and href:  # Ensure both text and link exist\n",
    "        data['Text'].append(text)\n",
    "        data['Link'].append(href)\n",
    "\n",
    "# Create DataFrame\n",
    "hyperlinks_df = pd.DataFrame(data)\n"
   ]
  },
  {
   "cell_type": "code",
   "execution_count": 19,
   "metadata": {},
   "outputs": [],
   "source": [
    "# Save DataFrame to a CSV file\n",
    "hyperlinks_df.to_csv('hyperlinks.csv', index=False)\n"
   ]
  },
  {
   "attachments": {},
   "cell_type": "markdown",
   "metadata": {},
   "source": [
    "Data cleaning, manipulation and preprocessing"
   ]
  },
  {
   "cell_type": "code",
   "execution_count": 20,
   "metadata": {},
   "outputs": [
    {
     "data": {
      "text/plain": [
       "2557"
      ]
     },
     "execution_count": 20,
     "metadata": {},
     "output_type": "execute_result"
    }
   ],
   "source": [
    "# Counting the number of rows\n",
    "hyperlinks_df.shape[0]"
   ]
  },
  {
   "cell_type": "code",
   "execution_count": 21,
   "metadata": {},
   "outputs": [],
   "source": [
    "# Remove duplicate rows\n",
    "hyperlinks_df.drop_duplicates(inplace=True)\n",
    "\n",
    "# Remove rows with missing values\n",
    "hyperlinks_df.dropna(inplace=True)"
   ]
  },
  {
   "cell_type": "code",
   "execution_count": 26,
   "metadata": {},
   "outputs": [
    {
     "data": {
      "text/plain": [
       "2180"
      ]
     },
     "execution_count": 26,
     "metadata": {},
     "output_type": "execute_result"
    }
   ],
   "source": [
    "# Counting the number of rows after removing duplicates and null values \n",
    "hyperlinks_df.shape[0]"
   ]
  },
  {
   "cell_type": "code",
   "execution_count": 23,
   "metadata": {},
   "outputs": [],
   "source": [
    "# Save the cleaned hyperlinks DataFrame to a new CSV file\n",
    "hyperlinks_df.to_csv('cleaned_hyperlinks.csv', index=False)\n"
   ]
  },
  {
   "attachments": {},
   "cell_type": "markdown",
   "metadata": {},
   "source": [
    "Data Visualization"
   ]
  },
  {
   "cell_type": "code",
   "execution_count": 24,
   "metadata": {},
   "outputs": [
    {
     "data": {
      "image/png": "[encoded data removed]",
      "text/plain": [
       "<Figure size 640x480 with 1 Axes>"
      ]
     },
     "metadata": {},
     "output_type": "display_data"
    }
   ],
   "source": [
    "# Visualizing the distribution of text lengths\n",
    "import matplotlib.pyplot as plt \n",
    "text_lengths = hyperlinks_df['Text'].apply(len)\n",
    "plt.hist(text_lengths, bins=20, color='skyblue', edgecolor='black')\n",
    "plt.title('Distribution of Text Lengths in Hyperlinks')\n",
    "plt.xlabel('Text Length')\n",
    "plt.ylabel('Frequency')\n",
    "plt.savefig('text_lengths_distribution.png')\n",
    "plt.show()"
   ]
  },
  {
   "cell_type": "code",
   "execution_count": 25,
   "metadata": {},
   "outputs": [
    {
     "name": "stdout",
     "output_type": "stream",
     "text": [
      "Summary Statistics of 'Link' column:\n",
      " count                       2180\n",
      "unique                      2128\n",
      "top       /wiki/Polyphase_system\n",
      "freq                           3\n",
      "Name: Link, dtype: object\n"
     ]
    }
   ],
   "source": [
    "# Calculate summary statistics of the 'Link' column\n",
    "link_summary_stats = hyperlinks_df['Link'].describe()\n",
    "print(\"Summary Statistics of 'Link' column:\\n\", link_summary_stats)"
   ]
  }
 ],
 "metadata": {
  "kernelspec": {
   "display_name": "Python 3",
   "language": "python",
   "name": "python3"
  },
  "language_info": {
   "codemirror_mode": {
    "name": "ipython",
    "version": 3
   },
   "file_extension": ".py",
   "mimetype": "text/x-python",
   "name": "python",
   "nbconvert_exporter": "python",
   "pygments_lexer": "ipython3",
   "version": "3.11.0"
  },
  "orig_nbformat": 4
 },
 "nbformat": 4,
 "nbformat_minor": 2
}
